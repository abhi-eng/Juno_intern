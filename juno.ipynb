{
 "cells": [
  {
   "cell_type": "markdown",
   "metadata": {},
   "source": [
    "##### Method 1"
   ]
  },
  {
   "cell_type": "code",
   "execution_count": null,
   "metadata": {},
   "outputs": [],
   "source": [
    "from planet import api\n",
    "client = api.ClientV1()"
   ]
  },
  {
   "cell_type": "code",
   "execution_count": 5,
   "metadata": {},
   "outputs": [],
   "source": [
    "# I have picked some Silicon Valley, San Francisco, CA, coordinates:\n",
    "geojson_geometry = {\n",
    "      \"type\": \"Polygon\",\n",
    "      \"coordinates\": [\n",
    "              [\n",
    "                [\n",
    "                  -122.43576049804688,\n",
    "                  37.51299386065851\n",
    "                ],\n",
    "                [\n",
    "                  -122.34786987304686,\n",
    "                  37.155938651244625\n",
    "                ],\n",
    "                [\n",
    "                  -122.07595825195312,\n",
    "                  36.948794297566366\n",
    "                ],\n",
    "                [\n",
    "                  -121.8878173828125,\n",
    "                  37.18110808791507\n",
    "                ],\n",
    "              ]\n",
    "            ]\n",
    "          }"
   ]
  },
  {
   "cell_type": "code",
   "execution_count": 10,
   "metadata": {},
   "outputs": [],
   "source": [
    "# get images that overlap with our area of interest \n",
    "geometry_filter = {\n",
    "      \"type\": \"GeometryFilter\",\n",
    "      \"field_name\": \"geometry\",\n",
    "      \"config\": geojson_geometry\n",
    "    }\n",
    "\n",
    "    # get images acquired within a date range\n",
    "date_range_filter = {\n",
    "      \"type\": \"DateRangeFilter\",\n",
    "      \"field_name\": \"acquired\",\n",
    "      \"config\": {\n",
    "        \"gte\": \"2018-08-31T00:00:00.000Z\", \n",
    "        \"lte\": \"2018-09-01T00:00:00.000Z\"\n",
    "      }\n",
    "    }#or you can pick any other times, wider timeframes, though it might contain a lot more data..    # only get images which have <50% cloud coverage\n",
    "cloud_cover_filter = {\n",
    "      \"type\": \"RangeFilter\",\n",
    "      \"field_name\": \"cloud_cover\",\n",
    "      \"config\": {\n",
    "        \"lte\": 0.5\n",
    "      }\n",
    "    }\n",
    "\n",
    "    # combine our geo, date, cloud filters\n",
    "combined_filter = {\n",
    "      \"type\": \"AndFilter\",\n",
    "      \"config\": [geometry_filter, date_range_filter, cloud_cover_filter]\n",
    "    }"
   ]
  },
  {
   "cell_type": "code",
   "execution_count": 14,
   "metadata": {},
   "outputs": [
    {
     "name": "stdout",
     "output_type": "stream",
     "text": [
      "{\n",
      " \"general\": [\n",
      "  {\n",
      "   \"message\": \"{\\\"interval\\\": \\\"Rogue field\\\"}\"\n",
      "  }\n",
      " ],\n",
      " \"field\": {}\n",
      "}\n"
     ]
    }
   ],
   "source": [
    "import os\n",
    "import json\n",
    "import requests\n",
    "from requests.auth import HTTPBasicAuth\n",
    "\n",
    "os.environ['PL_API_KEY']='d8ff7cc5eca346aa92a1fe5f9ae7b306'\n",
    "\n",
    "    # API Key stored as an env variable\n",
    "PLANET_API_KEY = os.getenv('PL_API_KEY') \n",
    "    \n",
    "    # will get a 4 band image with spectral data for Red, Green, Blue and Near-infrared values\n",
    "item_type = \"PSScene4Band\"\n",
    "\n",
    "    # API request object\n",
    "search_request = {\n",
    "      \"interval\": \"day\",\n",
    "      \"item_types\": [item_type], \n",
    "      \"filter\": combined_filter\n",
    "    }\n",
    "\n",
    "    # fire off the POST request\n",
    "search_result = \\\n",
    "      requests.post(\n",
    "        'https://api.planet.com/data/v1/quick-search',\n",
    "        auth=HTTPBasicAuth(PLANET_API_KEY, ''),\n",
    "        json=search_request)\n",
    "\n",
    "print(json.dumps(search_result.json(), indent=1))"
   ]
  },
  {
   "cell_type": "code",
   "execution_count": null,
   "metadata": {},
   "outputs": [],
   "source": [
    "# extract image IDs only\n",
    "image_ids = [feature['id'] for feature in search_result.json()['features']]\n",
    "print(image_ids)\n",
    "\n",
    "# For demo purposes, just grab the first image ID\n",
    "id0 = image_ids[0]\n",
    "id0_url = 'https://api.planet.com/data/v1/item-types/{}/items/{}/assets'.format(item_type, id0)\n",
    "\n",
    "# Returns JSON metadata for assets in this ID. Learn more: planet.com/docs/reference/data-api/items-assets/#asset\n",
    "result = \\\n",
    "  requests.get(\n",
    "    id0_url,\n",
    "    auth=HTTPBasicAuth(PLANET_API_KEY, '')\n",
    "  )\n",
    "\n",
    "# List of asset types available for this particular satellite image\n",
    "print(result.json().keys())\n",
    "\n",
    "# This is \"inactive\" if the \"analytic\" asset has not yet been activated; otherwise 'active'\n",
    "print(result.json()['analytic_dn']['status'])"
   ]
  },
  {
   "cell_type": "code",
   "execution_count": null,
   "metadata": {},
   "outputs": [],
   "source": [
    "# activate the asset for download:\n",
    "links = result.json()[u\"analytic_dn\"][\"_links\"]\n",
    "self_link = links[\"_self\"]\n",
    "activation_link = links[\"activate\"]\n",
    "\n",
    "# Request activation of the 'analytic' asset:\n",
    "activate_result = \\\n",
    "  requests.get(\n",
    "    activation_link,\n",
    "    auth=HTTPBasicAuth(PLANET_API_KEY, '')\n",
    "  )"
   ]
  },
  {
   "cell_type": "code",
   "execution_count": null,
   "metadata": {},
   "outputs": [],
   "source": [
    "activation_status_result = \\\n",
    "  requests.get(\n",
    "    self_link,\n",
    "    auth=HTTPBasicAuth(PLANET_API_KEY, '')\n",
    "  )\n",
    "\n",
    "print(activation_status_result.json()[\"status\"])"
   ]
  },
  {
   "cell_type": "code",
   "execution_count": null,
   "metadata": {},
   "outputs": [],
   "source": [
    "# Image can be downloaded by making a GET with your Planet API key, from here:\n",
    "download_link = activation_status_result.json()[\"location\"]\n",
    "print(download_link)"
   ]
  },
  {
   "cell_type": "markdown",
   "metadata": {},
   "source": [
    "##### Method 2"
   ]
  },
  {
   "cell_type": "code",
   "execution_count": 23,
   "metadata": {},
   "outputs": [],
   "source": [
    "#importing the module \n",
    "import requests\n",
    "BASE_URL = \"https://maps.googleapis.com/maps/api/staticmap?\"\n",
    "API_KEY = \"Your API Key\"\n",
    "CITY = \"Hyderabad\"\n",
    "ZOOM = 14\n",
    "# updating the URL\n",
    "URL = BASE_URL + \"center=\" + CITY + \"&zoom=\" + str(ZOOM) + \"&size = 500x500&key=\" + API_KEY\n",
    "# HTTP request\n",
    "response = requests.get(URL)\n",
    "# storing the response in a file (image)\n",
    "with open('hyderabad.png', 'wb') as file:\n",
    "   # writing data into the file\n",
    "   file.write(response.content)\n",
    "# make sure you have a valid API Key\n",
    "# You will get 403 as status_code if your API Key is invalid"
   ]
  },
  {
   "cell_type": "code",
   "execution_count": null,
   "metadata": {},
   "outputs": [],
   "source": []
  },
  {
   "cell_type": "code",
   "execution_count": null,
   "metadata": {},
   "outputs": [],
   "source": []
  }
 ],
 "metadata": {
  "kernelspec": {
   "display_name": "Python 3",
   "language": "python",
   "name": "python3"
  },
  "language_info": {
   "codemirror_mode": {
    "name": "ipython",
    "version": 3
   },
   "file_extension": ".py",
   "mimetype": "text/x-python",
   "name": "python",
   "nbconvert_exporter": "python",
   "pygments_lexer": "ipython3",
   "version": "3.6.7"
  }
 },
 "nbformat": 4,
 "nbformat_minor": 2
}
